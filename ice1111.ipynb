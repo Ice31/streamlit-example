{
  "nbformat": 4,
  "nbformat_minor": 0,
  "metadata": {
    "colab": {
      "provenance": [],
      "toc_visible": true,
      "authorship_tag": "ABX9TyPFKZq0t4Mjsfitz6Z2TdS/",
      "include_colab_link": true
    },
    "kernelspec": {
      "name": "python3",
      "display_name": "Python 3"
    },
    "language_info": {
      "name": "python"
    }
  },
  "cells": [
    {
      "cell_type": "markdown",
      "metadata": {
        "id": "view-in-github",
        "colab_type": "text"
      },
      "source": [
        "<a href=\"https://colab.research.google.com/github/Ice31/streamlit-example/blob/master/ice1111.ipynb\" target=\"_parent\"><img src=\"https://colab.research.google.com/assets/colab-badge.svg\" alt=\"Open In Colab\"/></a>"
      ]
    },
    {
      "cell_type": "code",
      "execution_count": null,
      "metadata": {
        "id": "or82j_Ls2Apa"
      },
      "outputs": [],
      "source": [
        "# Install dependencies\n",
        "\n",
        "# Linux\n",
        "# sudo apt update && sudo apt install ffmpeg\n",
        "\n",
        "# MacOS\n",
        "# brew install ffmpeg\n",
        "\n",
        "# Windows\n",
        "#chco install ffmpeg\n",
        "\n",
        "# Installing pytorch\n",
        "# conda install pytorch torchvision torchaudio pytorch-cuda=11.7 -c pytorch -c nvidia\n",
        "\n",
        "# Installing Whisper\n",
        "# pip istalling git+https://github.com/openai/whisper -q\n",
        "\n",
        "# pip install streamlit\n",
        "import streamlit as st\n",
        "import whisper\n",
        "\n",
        "st.tittle('Whisper App')\n",
        "\n",
        "# upload audio file with streamlit\n",
        "audio_file = st.file.upload_uploader('Upload Audio', type=['wav', 'mp3', 'm4a'])\n",
        "\n",
        "model = whisper.load_model('base')\n",
        "st.text('Whisper Model Loaded')\n",
        "\n",
        "\n",
        "if st.sidebar.button('Transcribe Audio'):\n",
        "  if audio_file is not None:\n",
        "    st.sidebar.success('Transcribing Audio')\n",
        "    transcription = model.transcribe(audio_file.name)\n",
        "    st.sidebar.success('Transcription Complete')\n",
        "    st.markdown(transcription['Text'])\n",
        "  else:\n",
        "    st.sidebar.error('Please upload an audio file')\n",
        "\n",
        "\n",
        "if st.sidebar.header(Play original audio file):\n",
        "  st.sidebar.audio(audio_file)"
      ]
    }
  ]
}