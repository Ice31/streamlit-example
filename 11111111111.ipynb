{
  "nbformat": 4,
  "nbformat_minor": 0,
  "metadata": {
    "colab": {
      "provenance": [],
      "toc_visible": true,
      "authorship_tag": "ABX9TyNVV2dyn6rrEdsgVPK221dA"
    },
    "kernelspec": {
      "name": "python3",
      "display_name": "Python 3"
    },
    "language_info": {
      "name": "python"
    }
  },
  "cells": [
    {
      "cell_type": "code",
      "execution_count": 17,
      "metadata": {
        "id": "or82j_Ls2Apa",
        "colab": {
          "base_uri": "https://localhost:8080/",
          "height": 131
        },
        "outputId": "856540e3-614d-43cf-8a20-2c18b76a8655"
      },
      "outputs": [
        {
          "output_type": "error",
          "ename": "SyntaxError",
          "evalue": "ignored",
          "traceback": [
            "\u001b[0;36m  File \u001b[0;32m\"<ipython-input-17-1dd922a4d72f>\"\u001b[0;36m, line \u001b[0;32m41\u001b[0m\n\u001b[0;31m    if st.sidebar.header(Play Original Audio File):\u001b[0m\n\u001b[0m                              ^\u001b[0m\n\u001b[0;31mSyntaxError\u001b[0m\u001b[0;31m:\u001b[0m invalid syntax\n"
          ]
        }
      ],
      "source": [
        "# Install dependencies\n",
        "\n",
        "# Linux\n",
        "# sudo apt update && sudo apt install ffmpeg\n",
        "\n",
        "# MacOS\n",
        "# brew install ffmpeg\n",
        "\n",
        "# Windows\n",
        "#chco install ffmpeg\n",
        "\n",
        "# Installing pytorch\n",
        "# conda install pytorch torchvision torchaudio pytorch-cuda=11.7 -c pytorch -c nvidia\n",
        "\n",
        "# Installing Whisper\n",
        "# pip istalling git+https://github.com/openai/whisper -q\n",
        "\n",
        "# pip install streamlit\n",
        "import streamlit as st\n",
        "import whisper\n",
        "\n",
        "st.tittle('Whisper App')\n",
        "\n",
        "# upload audio file with streamlit\n",
        "audio_file = st.file.upload_uploader('Upload Audio', type=['wav', 'mp3', 'm4a'])\n",
        "\n",
        "model = whisper.load_model('base')\n",
        "st.text('Whisper Model Loaded')\n",
        "\n",
        "\n",
        "if st.sidebar.button('Transcribe Audio'):\n",
        "  if audio_file is not None:\n",
        "    st.sidebar.success('Transcribing Audio')\n",
        "    transcription = model.transcribe(audio_file.name)\n",
        "    st.sidebar.success('Transcription Complete')\n",
        "    st.markdown(transcription['Text'])\n",
        "  else:\n",
        "    st.sidebar.error('Please upload an audio file')\n",
        "\n",
        "\n",
        "if st.sidebar.header(Play Original Audio File):\n",
        "  st.sidebar.audio(audio_file)"
      ]
    }
  ]
}